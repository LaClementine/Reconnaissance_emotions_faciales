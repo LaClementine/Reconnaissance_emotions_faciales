{
 "cells": [
  {
   "cell_type": "markdown",
   "metadata": {},
   "source": [
    "# DenseNet sur 5 classes"
   ]
  },
  {
   "cell_type": "markdown",
   "metadata": {},
   "source": [
    "## Les imports"
   ]
  },
  {
   "cell_type": "code",
   "execution_count": 1,
   "metadata": {},
   "outputs": [],
   "source": [
    "import os\n",
    "import torch\n",
    "import torch.nn as nn\n",
    "import torch.optim as optim\n",
    "from torch.utils.data import DataLoader\n",
    "from torchvision import models, transforms\n",
    "from torchvision.datasets import ImageFolder\n",
    "import numpy as np\n",
    "import cv2\n",
    "import albumentations as A\n",
    "from albumentations.pytorch import ToTensorV2\n",
    "from torch.optim.lr_scheduler import ReduceLROnPlateau\n"
   ]
  },
  {
   "cell_type": "markdown",
   "metadata": {},
   "source": [
    "## Préparations des données "
   ]
  },
  {
   "cell_type": "code",
   "execution_count": 2,
   "metadata": {},
   "outputs": [
    {
     "name": "stderr",
     "output_type": "stream",
     "text": [
      "/home/grp1issd/Desktop/Projet_TPE/env/lib/python3.12/site-packages/albumentations/core/validation.py:111: UserWarning: ShiftScaleRotate is a special case of Affine transform. Please use Affine transform instead.\n",
      "  original_init(self, **validated_kwargs)\n"
     ]
    }
   ],
   "source": [
    "class AlbumentationsDataset(torch.utils.data.Dataset):\n",
    "    def __init__(self, dataset, transform=None):\n",
    "        self.dataset = dataset\n",
    "        self.transform = transform\n",
    "\n",
    "    def __getitem__(self, index):\n",
    "        image, label = self.dataset[index]\n",
    "        image = cv2.cvtColor(np.array(image), cv2.COLOR_RGB2BGR)\n",
    "        if self.transform:\n",
    "            image = self.transform(image=image)[\"image\"]\n",
    "        return image, label\n",
    "\n",
    "    def __len__(self):\n",
    "        return len(self.dataset)\n",
    "\n",
    "# Transforms entraînement\n",
    "train_transforms = A.Compose([\n",
    "    A.HorizontalFlip(p=0.5),\n",
    "    A.ShiftScaleRotate(shift_limit=0.1, scale_limit=0.1, rotate_limit=20, p=0.7),\n",
    "    A.RandomBrightnessContrast(brightness_limit=0.2, contrast_limit=0.2, p=0.5),\n",
    "    A.HueSaturationValue(p=0.3),\n",
    "    A.GaussNoise(p=0.2),\n",
    "    A.CLAHE(p=0.3),\n",
    "    A.Resize(224, 224),\n",
    "    A.Normalize(mean=(0.485, 0.456, 0.406), std=(0.229, 0.224, 0.225)),\n",
    "    ToTensorV2(),\n",
    "])\n",
    "\n",
    "val_transforms = transforms.Compose([\n",
    "    transforms.Resize((224, 224)),\n",
    "    transforms.ToTensor(),\n",
    "    transforms.Normalize(mean=(0.485, 0.456, 0.406),\n",
    "                         std=(0.229, 0.224, 0.225)),\n",
    "])\n",
    "\n",
    "# Chemins vers les dossiers (modifiés à 5 classes)\n",
    "train_path = \"FER_2013/train\"\n",
    "val_path = \"FER_2013/test\"\n",
    "\n",
    "base_train_dataset = ImageFolder(train_path)\n",
    "train_dataset = AlbumentationsDataset(base_train_dataset, transform=train_transforms)\n",
    "val_dataset = ImageFolder(val_path, transform=val_transforms)\n",
    "\n",
    "train_loader = DataLoader(train_dataset, batch_size=32, shuffle=True, num_workers=4)\n",
    "val_loader   = DataLoader(val_dataset,   batch_size=32, shuffle=False, num_workers=4)\n"
   ]
  },
  {
   "cell_type": "code",
   "execution_count": 3,
   "metadata": {},
   "outputs": [
    {
     "name": "stdout",
     "output_type": "stream",
     "text": [
      "Classes détectées : ['angry', 'fear', 'happy', 'sad']\n",
      "Nombre de classes : 4\n"
     ]
    }
   ],
   "source": [
    "print(\"Classes détectées :\", base_train_dataset.classes)\n",
    "print(\"Nombre de classes :\", len(base_train_dataset.classes))"
   ]
  },
  {
   "cell_type": "code",
   "execution_count": 4,
   "metadata": {},
   "outputs": [],
   "source": [
    "\n",
    "import shutil\n",
    "\n",
    "def clean_dataset(root_path, keep_classes):\n",
    "    for split in ['train', 'test']:\n",
    "        path = os.path.join(root_path, split)\n",
    "        for class_dir in os.listdir(path):\n",
    "            full_path = os.path.join(path, class_dir)\n",
    "            if class_dir not in keep_classes and os.path.isdir(full_path):\n",
    "                print(f\"Suppression du dossier non désiré : {full_path}\")\n",
    "                shutil.rmtree(full_path)\n",
    "\n",
    "# Utilisation\n",
    "keep = ['angry', 'fear', 'happy', 'neutral', 'sad']\n",
    "clean_dataset('FER_2013', keep)\n"
   ]
  },
  {
   "cell_type": "markdown",
   "metadata": {},
   "source": [
    "## Création du modele DenseNet 121 !! 5 classes"
   ]
  },
  {
   "cell_type": "code",
   "execution_count": 5,
   "metadata": {},
   "outputs": [],
   "source": [
    "def create_model(num_classes=4):\n",
    "    model = models.densenet121(pretrained=True)\n",
    "    for idx, block in enumerate(model.features):\n",
    "        if idx <= 7:\n",
    "            for param in block.parameters():\n",
    "                param.requires_grad = False\n",
    "\n",
    "    num_ftrs = model.classifier.in_features\n",
    "    model.classifier = nn.Linear(num_ftrs, num_classes)\n",
    "    return model\n"
   ]
  },
  {
   "cell_type": "markdown",
   "metadata": {},
   "source": [
    "## Fonctions d'entrainement / évalutation"
   ]
  },
  {
   "cell_type": "code",
   "execution_count": 6,
   "metadata": {},
   "outputs": [],
   "source": [
    "def train_one_epoch(model, dataloader, criterion, optimizer, device):\n",
    "    model.train()\n",
    "    total_loss, correct, total = 0.0, 0, 0\n",
    "\n",
    "    for images, labels in dataloader:\n",
    "        images, labels = images.to(device), labels.to(device)\n",
    "        optimizer.zero_grad()\n",
    "        outputs = model(images)\n",
    "        loss = criterion(outputs, labels)\n",
    "        loss.backward()\n",
    "        optimizer.step()\n",
    "\n",
    "        total_loss += loss.item() * images.size(0)\n",
    "        correct += (outputs.argmax(1) == labels).sum().item()\n",
    "        total += images.size(0)\n",
    "\n",
    "    return total_loss / total, correct / total\n",
    "\n",
    "def evaluate(model, dataloader, criterion, device):\n",
    "    model.eval()\n",
    "    total_loss, correct, total = 0.0, 0, 0\n",
    "\n",
    "    with torch.no_grad():\n",
    "        for images, labels in dataloader:\n",
    "            images, labels = images.to(device), labels.to(device)\n",
    "            outputs = model(images)\n",
    "            loss = criterion(outputs, labels)\n",
    "\n",
    "            total_loss += loss.item() * images.size(0)\n",
    "            correct += (outputs.argmax(1) == labels).sum().item()\n",
    "            total += images.size(0)\n",
    "\n",
    "    return total_loss / total, correct / total\n"
   ]
  },
  {
   "cell_type": "markdown",
   "metadata": {},
   "source": [
    "## Entrainement du modèle"
   ]
  },
  {
   "cell_type": "code",
   "execution_count": 7,
   "metadata": {},
   "outputs": [],
   "source": [
    "all_losses_train = []\n",
    "all_losses_val = []\n",
    "all_acc_train = []\n",
    "all_acc_val = []\n"
   ]
  },
  {
   "cell_type": "code",
   "execution_count": 8,
   "metadata": {},
   "outputs": [],
   "source": [
    "def train_model(model, train_loader, val_loader, num_epochs=20, save_dir=\"DenseNet121\"):\n",
    "    os.makedirs(save_dir, exist_ok=True)\n",
    "    device_ = torch.device(\"cuda\" if torch.cuda.is_available() else \"cpu\")\n",
    "    model.to(device_)\n",
    "\n",
    "    criterion = nn.CrossEntropyLoss()\n",
    "    optimizer = optim.Adam(filter(lambda p: p.requires_grad, model.parameters()), lr=1e-4)\n",
    "    scheduler = ReduceLROnPlateau(optimizer, mode='min', factor=0.5, patience=3)\n",
    "\n",
    "    best_val_acc = 0.0\n",
    "    best_model_wts = model.state_dict()\n",
    "    log_file_path = os.path.join(save_dir, \"training_log.txt\")\n",
    "\n",
    "    with open(log_file_path, \"w\") as log_file:\n",
    "        for epoch in range(1, num_epochs + 1):\n",
    "            train_loss, train_acc = train_one_epoch(model, train_loader, criterion, optimizer, device_)\n",
    "            val_loss, val_acc = evaluate(model, val_loader, criterion, device_)\n",
    "\n",
    "            log = (f\"Epoch {epoch:02d} | TRAIN loss: {train_loss:.4f}, acc: {train_acc:.4f} | \"\n",
    "                   f\"VALID loss: {val_loss:.4f}, acc: {val_acc:.4f} | LR: {optimizer.param_groups[0]['lr']:.2e}\")\n",
    "            print(log)\n",
    "            all_losses_train.append(train_loss)\n",
    "            all_losses_val.append(val_loss)\n",
    "            all_acc_train.append(train_acc)\n",
    "            all_acc_val.append(val_acc)\n",
    "\n",
    "            log_file.write(log + \"\\n\")\n",
    "\n",
    "            scheduler.step(val_loss)\n",
    "\n",
    "            if val_acc > best_val_acc:\n",
    "                best_val_acc = val_acc\n",
    "                best_model_wts = model.state_dict()\n",
    "\n",
    "    save_path = os.path.join(save_dir, f\"best_densenet121_acc{best_val_acc:.4f}.pth\")\n",
    "    torch.save(best_model_wts, save_path)\n",
    "    print(f\" Meilleur modèle sauvegardé : {save_path}\")\n",
    "    return model\n"
   ]
  },
  {
   "cell_type": "markdown",
   "metadata": {},
   "source": [
    "## Lancer l'entrainement "
   ]
  },
  {
   "cell_type": "code",
   "execution_count": 10,
   "metadata": {},
   "outputs": [
    {
     "name": "stdout",
     "output_type": "stream",
     "text": [
      "Epoch 01 | TRAIN loss: 1.0351, acc: 0.5374 | VALID loss: 0.7624, acc: 0.6766 | LR: 1.00e-04\n",
      "Epoch 02 | TRAIN loss: 0.8925, acc: 0.6125 | VALID loss: 0.7122, acc: 0.7042 | LR: 1.00e-04\n",
      "Epoch 03 | TRAIN loss: 0.8463, acc: 0.6331 | VALID loss: 0.6925, acc: 0.7166 | LR: 1.00e-04\n",
      "Epoch 04 | TRAIN loss: 0.8112, acc: 0.6542 | VALID loss: 0.6772, acc: 0.7244 | LR: 1.00e-04\n",
      "Epoch 05 | TRAIN loss: 0.7861, acc: 0.6632 | VALID loss: 0.6674, acc: 0.7352 | LR: 1.00e-04\n",
      "Epoch 06 | TRAIN loss: 0.7661, acc: 0.6811 | VALID loss: 0.6759, acc: 0.7268 | LR: 1.00e-04\n",
      "Epoch 07 | TRAIN loss: 0.7483, acc: 0.6843 | VALID loss: 0.6476, acc: 0.7402 | LR: 1.00e-04\n",
      "Epoch 08 | TRAIN loss: 0.7270, acc: 0.6979 | VALID loss: 0.6584, acc: 0.7344 | LR: 1.00e-04\n",
      "Epoch 09 | TRAIN loss: 0.7128, acc: 0.7039 | VALID loss: 0.6691, acc: 0.7402 | LR: 1.00e-04\n",
      "Epoch 10 | TRAIN loss: 0.6927, acc: 0.7127 | VALID loss: 0.6628, acc: 0.7398 | LR: 1.00e-04\n",
      "Epoch 11 | TRAIN loss: 0.6834, acc: 0.7155 | VALID loss: 0.6604, acc: 0.7537 | LR: 1.00e-04\n",
      "Epoch 12 | TRAIN loss: 0.6392, acc: 0.7359 | VALID loss: 0.6429, acc: 0.7585 | LR: 5.00e-05\n",
      "Epoch 13 | TRAIN loss: 0.6184, acc: 0.7421 | VALID loss: 0.6647, acc: 0.7589 | LR: 5.00e-05\n",
      "Epoch 14 | TRAIN loss: 0.6041, acc: 0.7497 | VALID loss: 0.6770, acc: 0.7551 | LR: 5.00e-05\n",
      "Epoch 15 | TRAIN loss: 0.5914, acc: 0.7561 | VALID loss: 0.6673, acc: 0.7613 | LR: 5.00e-05\n",
      "Epoch 16 | TRAIN loss: 0.5801, acc: 0.7621 | VALID loss: 0.7017, acc: 0.7561 | LR: 5.00e-05\n",
      "Epoch 17 | TRAIN loss: 0.5481, acc: 0.7779 | VALID loss: 0.7063, acc: 0.7553 | LR: 2.50e-05\n",
      "Epoch 18 | TRAIN loss: 0.5341, acc: 0.7828 | VALID loss: 0.7131, acc: 0.7609 | LR: 2.50e-05\n",
      "Epoch 19 | TRAIN loss: 0.5255, acc: 0.7888 | VALID loss: 0.7238, acc: 0.7551 | LR: 2.50e-05\n",
      "Epoch 20 | TRAIN loss: 0.5198, acc: 0.7869 | VALID loss: 0.7282, acc: 0.7573 | LR: 2.50e-05\n",
      "Epoch 21 | TRAIN loss: 0.5037, acc: 0.7949 | VALID loss: 0.7200, acc: 0.7649 | LR: 1.25e-05\n",
      "Epoch 22 | TRAIN loss: 0.4955, acc: 0.7985 | VALID loss: 0.7411, acc: 0.7597 | LR: 1.25e-05\n",
      "Epoch 23 | TRAIN loss: 0.4970, acc: 0.7960 | VALID loss: 0.7331, acc: 0.7619 | LR: 1.25e-05\n",
      "Epoch 24 | TRAIN loss: 0.4885, acc: 0.8005 | VALID loss: 0.7296, acc: 0.7619 | LR: 1.25e-05\n",
      "Epoch 25 | TRAIN loss: 0.4778, acc: 0.8055 | VALID loss: 0.7399, acc: 0.7619 | LR: 6.25e-06\n",
      "Epoch 26 | TRAIN loss: 0.4754, acc: 0.8061 | VALID loss: 0.7297, acc: 0.7633 | LR: 6.25e-06\n",
      "Epoch 27 | TRAIN loss: 0.4699, acc: 0.8098 | VALID loss: 0.7480, acc: 0.7627 | LR: 6.25e-06\n",
      "Epoch 28 | TRAIN loss: 0.4672, acc: 0.8097 | VALID loss: 0.7586, acc: 0.7645 | LR: 6.25e-06\n",
      "Epoch 29 | TRAIN loss: 0.4705, acc: 0.8087 | VALID loss: 0.7579, acc: 0.7657 | LR: 3.13e-06\n",
      "Epoch 30 | TRAIN loss: 0.4655, acc: 0.8095 | VALID loss: 0.7483, acc: 0.7635 | LR: 3.13e-06\n",
      "Epoch 31 | TRAIN loss: 0.4563, acc: 0.8137 | VALID loss: 0.7589, acc: 0.7643 | LR: 3.13e-06\n",
      "Epoch 32 | TRAIN loss: 0.4606, acc: 0.8130 | VALID loss: 0.7597, acc: 0.7627 | LR: 3.13e-06\n",
      "Epoch 33 | TRAIN loss: 0.4576, acc: 0.8127 | VALID loss: 0.7685, acc: 0.7621 | LR: 1.56e-06\n",
      "Epoch 34 | TRAIN loss: 0.4530, acc: 0.8159 | VALID loss: 0.7748, acc: 0.7649 | LR: 1.56e-06\n",
      "Epoch 35 | TRAIN loss: 0.4519, acc: 0.8180 | VALID loss: 0.7630, acc: 0.7649 | LR: 1.56e-06\n",
      "Epoch 36 | TRAIN loss: 0.4547, acc: 0.8147 | VALID loss: 0.7670, acc: 0.7633 | LR: 1.56e-06\n",
      "Epoch 37 | TRAIN loss: 0.4525, acc: 0.8180 | VALID loss: 0.7636, acc: 0.7633 | LR: 7.81e-07\n",
      "Epoch 38 | TRAIN loss: 0.4575, acc: 0.8116 | VALID loss: 0.7759, acc: 0.7639 | LR: 7.81e-07\n",
      "Epoch 39 | TRAIN loss: 0.4472, acc: 0.8175 | VALID loss: 0.7646, acc: 0.7623 | LR: 7.81e-07\n",
      "Epoch 40 | TRAIN loss: 0.4598, acc: 0.8144 | VALID loss: 0.7723, acc: 0.7633 | LR: 7.81e-07\n",
      "Epoch 41 | TRAIN loss: 0.4495, acc: 0.8170 | VALID loss: 0.7552, acc: 0.7635 | LR: 3.91e-07\n",
      "Epoch 42 | TRAIN loss: 0.4487, acc: 0.8208 | VALID loss: 0.7621, acc: 0.7637 | LR: 3.91e-07\n",
      "Epoch 43 | TRAIN loss: 0.4600, acc: 0.8140 | VALID loss: 0.7685, acc: 0.7633 | LR: 3.91e-07\n",
      "Epoch 44 | TRAIN loss: 0.4580, acc: 0.8158 | VALID loss: 0.7907, acc: 0.7621 | LR: 3.91e-07\n",
      "Epoch 45 | TRAIN loss: 0.4508, acc: 0.8178 | VALID loss: 0.7632, acc: 0.7657 | LR: 1.95e-07\n",
      "Epoch 46 | TRAIN loss: 0.4550, acc: 0.8131 | VALID loss: 0.7737, acc: 0.7641 | LR: 1.95e-07\n",
      "Epoch 47 | TRAIN loss: 0.4523, acc: 0.8132 | VALID loss: 0.7604, acc: 0.7663 | LR: 1.95e-07\n",
      "Epoch 48 | TRAIN loss: 0.4496, acc: 0.8210 | VALID loss: 0.7693, acc: 0.7663 | LR: 1.95e-07\n",
      "Epoch 49 | TRAIN loss: 0.4488, acc: 0.8158 | VALID loss: 0.7669, acc: 0.7651 | LR: 9.77e-08\n",
      "Epoch 50 | TRAIN loss: 0.4532, acc: 0.8171 | VALID loss: 0.7730, acc: 0.7645 | LR: 9.77e-08\n",
      " Meilleur modèle sauvegardé : DenseNet121/best_densenet121_acc0.7663.pth\n"
     ]
    }
   ],
   "source": [
    "if __name__ == \"__main__\":\n",
    "    model = create_model(num_classes=4)\n",
    "    trained_model = train_model(model, train_loader, val_loader, num_epochs=50)\n"
   ]
  },
  {
   "cell_type": "markdown",
   "metadata": {},
   "source": [
    "## Fonction d'affichage"
   ]
  },
  {
   "cell_type": "code",
   "execution_count": 11,
   "metadata": {},
   "outputs": [],
   "source": [
    "import matplotlib.pyplot as plt\n",
    "\n",
    "def plot_metrics(train_loss, val_loss, train_acc, val_acc, save_dir):\n",
    "    epochs = range(1, len(train_loss) + 1)\n",
    "    plt.figure(figsize=(12, 5))\n",
    "\n",
    "    # Loss\n",
    "    plt.subplot(1, 2, 1)\n",
    "    plt.plot(epochs, train_loss, label='Train Loss')\n",
    "    plt.plot(epochs, val_loss, label='Val Loss')\n",
    "    plt.xlabel('Epoch')\n",
    "    plt.ylabel('Loss')\n",
    "    plt.title('Loss over Epochs')\n",
    "    plt.legend()\n",
    "\n",
    "    # Accuracy\n",
    "    plt.subplot(1, 2, 2)\n",
    "    plt.plot(epochs, train_acc, label='Train Accuracy')\n",
    "    plt.plot(epochs, val_acc, label='Val Accuracy')\n",
    "    plt.xlabel('Epoch')\n",
    "    plt.ylabel('Accuracy')\n",
    "    plt.title('Accuracy over Epochs')\n",
    "    plt.legend()\n",
    "\n",
    "    plt.tight_layout()\n",
    "    plt.savefig(os.path.join(save_dir, \"training_curves.png\"))\n",
    "    plt.show()\n"
   ]
  },
  {
   "cell_type": "code",
   "execution_count": 12,
   "metadata": {},
   "outputs": [
    {
     "data": {
      "image/png": "[encoded data removed]",
      "text/plain": [
       "<Figure size 1200x500 with 2 Axes>"
      ]
     },
     "metadata": {},
     "output_type": "display_data"
    }
   ],
   "source": [
    "    # Enregistrer les courbes\n",
    "save_dir = \"savedir\"\n",
    "plot_metrics(all_losses_train, all_losses_val, all_acc_train, all_acc_val, save_dir)\n"
   ]
  },
  {
   "cell_type": "code",
   "execution_count": 13,
   "metadata": {},
   "outputs": [],
   "source": [
    "from sklearn.metrics import classification_report, confusion_matrix\n",
    "import matplotlib.pyplot as plt\n",
    "\n",
    "def test_model(model, test_loader, device, class_names):\n",
    "    model.eval()\n",
    "    model.to(device)\n",
    "\n",
    "    all_preds = []\n",
    "    all_labels = []\n",
    "\n",
    "    with torch.no_grad():\n",
    "        for images, labels in test_loader:\n",
    "            images, labels = images.to(device), labels.to(device)\n",
    "            outputs = model(images)\n",
    "            preds = torch.argmax(outputs, 1)\n",
    "            all_preds.extend(preds.cpu().numpy())\n",
    "            all_labels.extend(labels.cpu().numpy())\n",
    "\n",
    "    print(\"📊 Rapport de classification :\\n\")\n",
    "    print(classification_report(all_labels, all_preds, target_names=class_names))\n",
    "\n",
    "    print(\" Matrice de confusion :\\n\")\n",
    "    print(confusion_matrix(all_labels, all_preds))\n"
   ]
  },
  {
   "cell_type": "code",
   "execution_count": 14,
   "metadata": {},
   "outputs": [
    {
     "name": "stdout",
     "output_type": "stream",
     "text": [
      "📊 Rapport de classification :\n",
      "\n",
      "              precision    recall  f1-score   support\n",
      "\n",
      "       angry       0.67      0.65      0.66       958\n",
      "        fear       0.68      0.56      0.61      1024\n",
      "       happy       0.91      0.91      0.91      1774\n",
      "     neutral       0.66      0.69      0.68      1233\n",
      "         sad       0.57      0.64      0.61      1247\n",
      "\n",
      "    accuracy                           0.72      6236\n",
      "   macro avg       0.70      0.69      0.69      6236\n",
      "weighted avg       0.72      0.72      0.72      6236\n",
      "\n",
      "📌 Matrice de confusion :\n",
      "\n",
      "[[ 627   91   29   70  141]\n",
      " [ 116  571   25   87  225]\n",
      " [  23   24 1609   83   35]\n",
      " [  59   51   68  856  199]\n",
      " [ 115   97   33  198  804]]\n"
     ]
    }
   ],
   "source": [
    "# Supposons que les noms des classes sont :\n",
    "class_names = ['angry', 'fear', 'happy', 'neutral', 'sad']\n",
    "val_loader_for_test = DataLoader(val_dataset, batch_size=32, shuffle=False)\n",
    "test_model(trained_model, val_loader_for_test, device=torch.device(\"cuda\" if torch.cuda.is_available() else \"cpu\"), class_names=class_names)\n"
   ]
  },
  {
   "cell_type": "markdown",
   "metadata": {},
   "source": []
  }
 ],
 "metadata": {
  "kernelspec": {
   "display_name": "env",
   "language": "python",
   "name": "python3"
  },
  "language_info": {
   "codemirror_mode": {
    "name": "ipython",
    "version": 3
   },
   "file_extension": ".py",
   "mimetype": "text/x-python",
   "name": "python",
   "nbconvert_exporter": "python",
   "pygments_lexer": "ipython3",
   "version": "3.12.3"
  }
 },
 "nbformat": 4,
 "nbformat_minor": 2
}
