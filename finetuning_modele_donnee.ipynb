{
 "cells": [
  {
   "cell_type": "markdown",
   "metadata": {},
   "source": [
    "## Fonctions necessaire "
   ]
  },
  {
   "cell_type": "code",
   "execution_count": 2,
   "metadata": {},
   "outputs": [],
   "source": [
    "def train_one_epoch(model, dataloader, criterion, optimizer, device):\n",
    "    model.train()\n",
    "    total_loss, correct, total = 0.0, 0, 0\n",
    "\n",
    "    for images, labels in dataloader:\n",
    "        images, labels = images.to(device), labels.to(device)\n",
    "        optimizer.zero_grad()\n",
    "        outputs = model(images)\n",
    "        loss = criterion(outputs, labels)\n",
    "        loss.backward()\n",
    "        optimizer.step()\n",
    "\n",
    "        total_loss += loss.item() * images.size(0)\n",
    "        correct += (outputs.argmax(1) == labels).sum().item()\n",
    "        total += images.size(0)\n",
    "\n",
    "    return total_loss / total, correct / total\n",
    "\n",
    "def evaluate(model, dataloader, criterion, device):\n",
    "    model.eval()\n",
    "    total_loss, correct, total = 0.0, 0, 0\n",
    "\n",
    "    with torch.no_grad():\n",
    "        for images, labels in dataloader:\n",
    "            images, labels = images.to(device), labels.to(device)\n",
    "            outputs = model(images)\n",
    "            loss = criterion(outputs, labels)\n",
    "\n",
    "            total_loss += loss.item() * images.size(0)\n",
    "            correct += (outputs.argmax(1) == labels).sum().item()\n",
    "            total += images.size(0)\n",
    "\n",
    "    return total_loss / total, correct / total\n",
    "\n",
    "def train_model(model, train_loader, val_loader, num_epochs=20, save_dir=\"DenseNet121\"):\n",
    "    os.makedirs(save_dir, exist_ok=True)\n",
    "    device_ = torch.device(\"cuda\" if torch.cuda.is_available() else \"cpu\")\n",
    "    model.to(device_)\n",
    "\n",
    "    criterion = nn.CrossEntropyLoss()\n",
    "    optimizer = optim.Adam(filter(lambda p: p.requires_grad, model.parameters()), lr=1e-4)\n",
    "    scheduler = ReduceLROnPlateau(optimizer, mode='min', factor=0.5, patience=3)\n",
    "\n",
    "    best_val_acc = 0.0\n",
    "    best_model_wts = model.state_dict()\n",
    "    log_file_path = os.path.join(save_dir, \"training_log.txt\")\n",
    "\n",
    "    with open(log_file_path, \"w\") as log_file:\n",
    "        for epoch in range(1, num_epochs + 1):\n",
    "            train_loss, train_acc = train_one_epoch(model, train_loader, criterion, optimizer, device_)\n",
    "            val_loss, val_acc = evaluate(model, val_loader, criterion, device_)\n",
    "\n",
    "            log = (f\"Epoch {epoch:02d} | TRAIN loss: {train_loss:.4f}, acc: {train_acc:.4f} | \"\n",
    "                   f\"VALID loss: {val_loss:.4f}, acc: {val_acc:.4f} | LR: {optimizer.param_groups[0]['lr']:.2e}\")\n",
    "            print(log)\n",
    "            all_losses_train.append(train_loss)\n",
    "            all_losses_val.append(val_loss)\n",
    "            all_acc_train.append(train_acc)\n",
    "            all_acc_val.append(val_acc)\n",
    "\n",
    "            log_file.write(log + \"\\n\")\n",
    "\n",
    "            scheduler.step(val_loss)\n",
    "\n",
    "            if val_acc > best_val_acc:\n",
    "                best_val_acc = val_acc\n",
    "                best_model_wts = model.state_dict()\n",
    "\n",
    "    save_path = os.path.join(save_dir, f\"best_densenet121_acc{best_val_acc:.4f}.pth\")\n",
    "    torch.save(best_model_wts, save_path)\n",
    "    print(f\" Meilleur modèle sauvegardé : {save_path}\")\n",
    "    return model\n"
   ]
  },
  {
   "cell_type": "code",
   "execution_count": null,
   "metadata": {},
   "outputs": [],
   "source": []
  },
  {
   "cell_type": "markdown",
   "metadata": {},
   "source": [
    "# Ici on funetune sur notre nouveau jeu de données "
   ]
  },
  {
   "cell_type": "code",
   "execution_count": 1,
   "metadata": {},
   "outputs": [],
   "source": [
    "import torch\n",
    "import torch.nn as nn\n",
    "import torch.optim as optim\n",
    "from torchvision import models, transforms, datasets\n",
    "from torch.utils.data import DataLoader\n",
    "from sklearn.metrics import classification_report\n",
    "import os\n"
   ]
  },
  {
   "cell_type": "code",
   "execution_count": 2,
   "metadata": {},
   "outputs": [],
   "source": [
    "data_dir = \"captured_faces_finetunning\"  # ton nouveau dossier\n",
    "\n",
    "transform = transforms.Compose([\n",
    "    transforms.Resize((224, 224)),\n",
    "    transforms.RandomHorizontalFlip(),\n",
    "    transforms.RandomRotation(10),\n",
    "    transforms.ToTensor(),\n",
    "    transforms.Normalize([0.485, 0.456, 0.406],\n",
    "                         [0.229, 0.224, 0.225])\n",
    "])\n",
    "\n",
    "dataset = datasets.ImageFolder(data_dir, transform=transform)\n",
    "\n",
    "train_size = int(0.8 * len(dataset))\n",
    "val_size = len(dataset) - train_size\n",
    "train_dataset, val_dataset = torch.utils.data.random_split(dataset, [train_size, val_size])\n",
    "\n",
    "train_loader = DataLoader(train_dataset, batch_size=16, shuffle=True)\n",
    "val_loader = DataLoader(val_dataset, batch_size=16, shuffle=False)\n",
    "class_names = dataset.classes\n",
    "num_classes = len(class_names)\n"
   ]
  },
  {
   "cell_type": "code",
   "execution_count": 3,
   "metadata": {},
   "outputs": [
    {
     "name": "stderr",
     "output_type": "stream",
     "text": [
      "/home/grp1issd/Desktop/Projet_TPE/env/lib/python3.12/site-packages/torchvision/models/_utils.py:208: UserWarning: The parameter 'pretrained' is deprecated since 0.13 and may be removed in the future, please use 'weights' instead.\n",
      "  warnings.warn(\n",
      "/home/grp1issd/Desktop/Projet_TPE/env/lib/python3.12/site-packages/torchvision/models/_utils.py:223: UserWarning: Arguments other than a weight enum or `None` for 'weights' are deprecated since 0.13 and may be removed in the future. The current behavior is equivalent to passing `weights=None`.\n",
      "  warnings.warn(msg)\n"
     ]
    }
   ],
   "source": [
    "device = torch.device(\"cuda\" if torch.cuda.is_available() else \"cpu\")\n",
    "\n",
    "# Créer le modèle avec 4 classes (comme celui sauvegardé)\n",
    "model = models.densenet121(pretrained=False)\n",
    "model.classifier = nn.Linear(model.classifier.in_features, 4)\n",
    "model.load_state_dict(torch.load(\"DenseNet121/best_densenet121_acc0.7663.pth\"))\n",
    "\n",
    "model = model.to(device)\n",
    "\n"
   ]
  },
  {
   "cell_type": "code",
   "execution_count": 4,
   "metadata": {},
   "outputs": [
    {
     "name": "stdout",
     "output_type": "stream",
     "text": [
      "Epoch 1 - Loss: 0.5613, Val Acc: 88.64%\n",
      " Nouveau meilleur modèle sauvegardé.\n",
      "Epoch 2 - Loss: 0.1403, Val Acc: 95.45%\n",
      " Nouveau meilleur modèle sauvegardé.\n",
      "Epoch 3 - Loss: 0.0634, Val Acc: 93.18%\n",
      "Epoch 4 - Loss: 0.0684, Val Acc: 95.45%\n",
      "Epoch 5 - Loss: 0.0611, Val Acc: 100.00%\n",
      " Nouveau meilleur modèle sauvegardé.\n",
      "Epoch 6 - Loss: 0.0536, Val Acc: 95.45%\n",
      "Epoch 7 - Loss: 0.0162, Val Acc: 95.45%\n",
      "Epoch 8 - Loss: 0.0231, Val Acc: 97.73%\n",
      "Epoch 9 - Loss: 0.0312, Val Acc: 95.45%\n",
      "Epoch 10 - Loss: 0.0367, Val Acc: 95.45%\n"
     ]
    }
   ],
   "source": [
    "criterion = nn.CrossEntropyLoss()\n",
    "optimizer = optim.Adam(filter(lambda p: p.requires_grad, model.parameters()), lr=1e-4)\n",
    "\n",
    "best_acc = 0\n",
    "\n",
    "for epoch in range(10):\n",
    "    model.train()\n",
    "    running_loss, correct, total = 0.0, 0, 0\n",
    "\n",
    "    for inputs, labels in train_loader:\n",
    "        inputs, labels = inputs.to(device), labels.to(device)\n",
    "\n",
    "        optimizer.zero_grad()\n",
    "        outputs = model(inputs)\n",
    "        loss = criterion(outputs, labels)\n",
    "        loss.backward()\n",
    "        optimizer.step()\n",
    "\n",
    "        running_loss += loss.item() * inputs.size(0)\n",
    "        correct += (outputs.argmax(1) == labels).sum().item()\n",
    "        total += inputs.size(0)\n",
    "\n",
    "    val_correct, val_total = 0, 0\n",
    "    model.eval()\n",
    "    with torch.no_grad():\n",
    "        for inputs, labels in val_loader:\n",
    "            inputs, labels = inputs.to(device), labels.to(device)\n",
    "            outputs = model(inputs)\n",
    "            val_correct += (outputs.argmax(1) == labels).sum().item()\n",
    "            val_total += labels.size(0)\n",
    "\n",
    "    val_acc = val_correct / val_total * 100\n",
    "    print(f\"Epoch {epoch+1} - Loss: {running_loss/total:.4f}, Val Acc: {val_acc:.2f}%\")\n",
    "\n",
    "    if val_acc > best_acc:\n",
    "        best_acc = val_acc\n",
    "        torch.save(model.state_dict(), \"finetuned_model/fine_tuned_model.pth\")\n",
    "        print(\" Nouveau meilleur modèle sauvegardé.\")\n"
   ]
  },
  {
   "cell_type": "code",
   "execution_count": null,
   "metadata": {},
   "outputs": [],
   "source": []
  }
 ],
 "metadata": {
  "kernelspec": {
   "display_name": "env",
   "language": "python",
   "name": "python3"
  },
  "language_info": {
   "codemirror_mode": {
    "name": "ipython",
    "version": 3
   },
   "file_extension": ".py",
   "mimetype": "text/x-python",
   "name": "python",
   "nbconvert_exporter": "python",
   "pygments_lexer": "ipython3",
   "version": "3.12.3"
  }
 },
 "nbformat": 4,
 "nbformat_minor": 2
}
